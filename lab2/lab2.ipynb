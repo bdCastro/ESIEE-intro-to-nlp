{
 "cells": [
  {
   "cell_type": "markdown",
   "id": "319c83df",
   "metadata": {},
   "source": [
    "# AIC-5102B Lab 2 / Text classification\n",
    "\n",
    "The aim of this lab is to use LDA and its kernelized version to perform text classification. You should work by pairs, as I explained by email.\n",
    "\n",
    "## 0. Submission instructions\n",
    "\n",
    "Drop a ZIP archive of your working directory on https://mvproxy.esiee.fr by October 5th, 23:59. Late deliveries will be penalized 1pt/day. As you are working by pairs, any of you can submit for both; moreover, the last submission overwrites the former ones.\n",
    "\n",
    "Your working directory should contain:\n",
    "- This notebook (lab2.ipynb), filled with answers to the questions ;\n",
    "- and a *local* copy of the text articles or CSV files you are working with, which you should access to relatively and not absolutely. \n",
    "\n",
    "Please pay attention to the latter point. Code like\n",
    "```\n",
    "csv.reader('C:\\Users\\Yoyodyne\\My Documents\\AIC-5102B\\Lab2 Text Classification/dataset.csv')\n",
    "```\n",
    "\n",
    "should be banned, and replaced by\n",
    "```\n",
    "csv.reader('dataset.csv')\n",
    "```\n",
    "or\n",
    "```\n",
    "csv.read('./data/class1.csv')\n",
    "csv.read('./data/class2.csv')\n",
    "```\n",
    "\n",
    "I should be able to run your code on *Linux* without modifying the 'C:\\Users\\Yoyodyne\\My Documents\\AIC-5102B', which I don't have access to, nor changing anything else when I run your notebook. You must also stick to NLTK, and packages I include myself in the following code blocks, and nothing else.\n",
    "\n",
    "\n",
    "## 1. Setup\n",
    "\n",
    "\n",
    "You are free to choose the working dataset you wish to work with from Kaggle amongnst the following :\n",
    "- Ecommerce Text Classification\n",
    "- BBC Full Text Document Classification\n",
    "- Text Classification on Emails\n",
    "- Spam Text Message Classification\n",
    "\n",
    "See https://www.kaggle.com/datasets?search=text+classification\n",
    "\n",
    "Moreover, to alleviate the problem we will work with only 2 classes, so you will also have to choose 2 classes amongst those offered by your dataset.\n",
    "\n",
    "You should choose a dataset which contains documents which are long enough, otherwise it is unlikely that the specialized kernel of part 4 will help. Tweets, in particular, are discouraged for that reason. If you wish to use another dataset that those mentioned above, simply ask me for validation.\n",
    "\n",
    "Which dataset and classes did you chose ? Copy the related files to your working directory."
   ]
  },
  {
   "cell_type": "markdown",
   "id": "05ade3b1",
   "metadata": {},
   "source": [
    "\n"
   ]
  },
  {
   "cell_type": "markdown",
   "id": "6b79abd6",
   "metadata": {},
   "source": [
    "## 2. Text vectorization\n",
    "\n",
    "The following functions :\n",
    "- extract the vocabulary from row #5 (that number is arbitrary) of the specified CSV file \n",
    "- build the document-term matrix by reading again the same CSV file\n",
    "\n",
    "Adapt them, so that they fit your dataset and produce a D-T matrix in the end.\n",
    "\n",
    "Please note that:\n",
    "- the tokenization method used is wordpunct_tokenize(), which may not be optimal. You may call something different in case you find really too much garbage in your resulting vocabulary.\n",
    "- there are two \"if\" tests in dtmat_from_file which appear unnecessary so far. They are, indeed, because the test samples may include unseen words, which would generate out-of-bounds index. So unseen words are just ignored.\n",
    "- you may also want to lemmatize. "
   ]
  },
  {
   "cell_type": "code",
   "execution_count": 36,
   "id": "190415fd",
   "metadata": {},
   "outputs": [],
   "source": [
    "import csv\n",
    "import nltk\n",
    "import numpy as np\n",
    "import sys\n",
    "\n",
    "def voc_from_csv(csvfile):\n",
    "    nlines=0\n",
    "    voc=[]\n",
    "    with open(csvfile, errors='ignore') as file:\n",
    "        reader=csv.reader(file, delimiter=',')\n",
    "        for row in reader:\n",
    "            nlines=nlines+1\n",
    "            voc.extend(nltk.wordpunct_tokenize(row[1]))\n",
    "    voc=sorted(set(voc))\n",
    "    return voc,nlines\n",
    "\n",
    "def dtmat_from_csv(csvfile):\n",
    "    voc,rows=voc_from_csv(csvfile)\n",
    "    cols=len(voc)\n",
    "    mat=np.zeros((rows,cols))\n",
    "    d=0\n",
    "    with open(csvfile,  errors='ignore') as file:\n",
    "        reader=csv.reader(file, delimiter=',')\n",
    "        for row in reader:\n",
    "            w= nltk.wordpunct_tokenize(row[1])\n",
    "            X=np.searchsorted(voc,w,side='left')            \n",
    "            for i in range(0,len(w)):\n",
    "                if (X[i] < cols):\n",
    "                    if (w[i] == voc[X[i]]):\n",
    "                        mat[d][X[i]]+=1\n",
    "            d=d+1\n",
    "            print('Progress: ' + str(100*d/rows, ).split('.')[0] + '%', end='\\r')\n",
    "\n",
    "    return mat\n"
   ]
  },
  {
   "cell_type": "markdown",
   "id": "7c4d9a6e",
   "metadata": {},
   "source": [
    "### Question 1 \n",
    "\n",
    "Run dtmat_from_csv on one of your sample dataset. Examine the resulting matrix. How many times does it happen that a given word is seen only once (possibly twice) in your training set ? Give a few lines which show this below."
   ]
  },
  {
   "cell_type": "code",
   "execution_count": 37,
   "id": "cd1b3754",
   "metadata": {},
   "outputs": [
    {
     "name": "stdout",
     "output_type": "stream",
     "text": [
      "Progress: 100%\r"
     ]
    }
   ],
   "source": [
    "dt_mat = dtmat_from_csv('ecommerce.csv')"
   ]
  },
  {
   "cell_type": "code",
   "execution_count": 50,
   "id": "6a219652",
   "metadata": {},
   "outputs": [
    {
     "name": "stdout",
     "output_type": "stream",
     "text": [
      "Vocabulary size: 80982\n",
      "Number of documents: 31133\n",
      "Words that apper only once: 16213\n",
      "Words that apper only twice: 17612\n",
      "Words that apper only once/twice: 33825\n"
     ]
    }
   ],
   "source": [
    "w_count = dt_mat.sum(axis=0)\n",
    "w_count = w_count.astype(int)\n",
    "\n",
    "print('Vocabulary size: ' + str(len(w_count)))\n",
    "print('Number of documents: ' + str(len(dt_mat)))\n",
    "once, twice = len(w_count[w_count == 1]), len(w_count[w_count == 2])\n",
    "print('Words that apper only once: ' + str(once))\n",
    "print('Words that apper only twice: ' + str(twice))\n",
    "print('Words that apper only once/twice: ' + str(once + twice))"
   ]
  },
  {
   "cell_type": "markdown",
   "id": "26b8d219",
   "metadata": {},
   "source": [
    "### Question 2\n",
    "\n",
    "Suppose we use ordinary LDA to separate positive from negative samples, computed by voc_from_csv(). What will be the effect of an increasing number of \"seen only once\" words :\n",
    "- on the memory complexity of the solution ?\n",
    "- on the solution itself ?\n",
    "\n",
    "Write your answer below, either in plain language or using LaTeX notation for formulas if you prefer. This question is purely theoretical and does not require any programming."
   ]
  },
  {
   "cell_type": "code",
   "execution_count": null,
   "id": "b28fb3e3",
   "metadata": {},
   "outputs": [],
   "source": []
  },
  {
   "cell_type": "markdown",
   "id": "62aa9d6f",
   "metadata": {},
   "source": [
    "### Question 3\n",
    "\n",
    "No matter what your answer to question 2 is, add boolean parameter to voc_from_csv(), say \"purge\", so that when \"purge\" is True, the \"only seen once\" words are *not* included in the vocabulary. There is no need to modify dtmat_from_csv(),which has already been written to take this into account, except from the call to voc_from_csv().\n",
    "Change the block below accordingly:"
   ]
  },
  {
   "cell_type": "code",
   "execution_count": null,
   "id": "b4b1e8b3",
   "metadata": {},
   "outputs": [],
   "source": [
    "def dtmat_from_csv(csvfile):\n",
    "    voc,rows=voc_from_csv(csvfile)\n",
    "    cols=len(voc)\n",
    "    mat=np.zeros((rows,cols))\n",
    "    d=0\n",
    "    with open(csvfile,  errors='ignore') as file:\n",
    "        reader=csv.reader(file, delimiter=',')\n",
    "        for row in reader:\n",
    "            w= nltk.wordpunct_tokenize(row[5])\n",
    "            X=np.searchsorted(voc,w,side='left')            \n",
    "            for i in range(0,len(w)):\n",
    "                if (X[i] < cols):\n",
    "                    if (w[i] == voc[X[i]]):\n",
    "                        mat[d][X[i]]+=1\n",
    "            d=d+1\n",
    "    return mat"
   ]
  },
  {
   "cell_type": "markdown",
   "id": "09b10fb5",
   "metadata": {},
   "source": [
    "## 3. Ordinary LDA\n",
    "\n",
    "### Question 4\n",
    "\n",
    "Write an lda(X1,X2) function which computes and returns the direction predicted by the ordinary LDA given samples X1 and X2, which should be passed as matrices of row vectors. The function should return:\n",
    "- $\\boldsymbol{u}$, the optimal direction\n",
    "- and $s$, the abscissa of the hyperplane (the linear discriminant) on $\\boldsymbol{u}$ which optimally separates the data assuming they are normally distributed after their projection on $\\boldsymbol{u}$\n"
   ]
  },
  {
   "cell_type": "code",
   "execution_count": null,
   "id": "c107d305",
   "metadata": {},
   "outputs": [],
   "source": [
    "def lda(X1,X2):    \n",
    "# your code here\n",
    "    return u,s"
   ]
  },
  {
   "cell_type": "markdown",
   "id": "c2116dab",
   "metadata": {},
   "source": [
    "### Question 5\n",
    "\n",
    "Test your function on a toy sample. Count how many points are correcly classified. You may use/extend/modify the following piece of code:"
   ]
  },
  {
   "cell_type": "code",
   "execution_count": 4,
   "id": "ac937407",
   "metadata": {},
   "outputs": [
    {
     "data": {
      "image/png": "[encoded data removed]",
      "text/plain": [
       "<Figure size 432x288 with 1 Axes>"
      ]
     },
     "metadata": {
      "needs_background": "light"
     },
     "output_type": "display_data"
    }
   ],
   "source": [
    "import matplotlib.pyplot as plt\n",
    "\n",
    "X1=np.random.multivariate_normal([1,2], np.identity(2),30)\n",
    "X2=np.random.multivariate_normal([-3,0], 0.5*np.identity(2),20)\n",
    "plt.scatter(X1[:,0],X1[:,1])\n",
    "plt.scatter(X2[:,0],X2[:,1])\n",
    "plt.show()\n",
    "u,s= lda(X1,X2)"
   ]
  },
  {
   "cell_type": "markdown",
   "id": "90684a7e",
   "metadata": {},
   "source": [
    "### Question 6\n",
    "\n",
    "Test the same function on your text classes. For at least one of them (most likeley, the lightest), you should normally have a problem. Why ? Add some code to your function to fix it."
   ]
  },
  {
   "cell_type": "code",
   "execution_count": null,
   "id": "e472e60f",
   "metadata": {},
   "outputs": [],
   "source": []
  },
  {
   "cell_type": "markdown",
   "id": "6dcc15f6",
   "metadata": {},
   "source": [
    "## 4. Kernelized LDA\n",
    "\n",
    "The kernelized version of LDA is implemented as a kfda package. Its homepage is here: https://pypi.org/project/kfda/\n",
    "You should install it by running pip3 install kfda\n",
    "\n",
    "### Question 7\n",
    "\n",
    "Let $\\boldsymbol{x}$ and $\\boldsymbol{y}$ be any two columns of your D-T matrix (which you may assume TD-IDF normalized or not, it does not change the problem). Consider the inhomogeneous polynomial kernel \n",
    "$$k(\\boldsymbol{x},\\boldsymbol{y})= (1+<\\boldsymbol{x},\\boldsymbol{y}>)^n$$\n",
    "where $n>0$ is integer.\n",
    "\n",
    "- Suppose that $n=2$, and that the above kernel is used in a kernelized LDA. What are the new axes created in the feature space, that didn't exist when $n=1$? Which of these could be useful, and change the solution computed by LDA in the feature space ?\n",
    "- Try to classify using this setup, and report your results. Then increase $n$ (moderately). What causes the computational bottleneck of kernelized LDA ?"
   ]
  },
  {
   "cell_type": "code",
   "execution_count": null,
   "id": "435382c1",
   "metadata": {},
   "outputs": [],
   "source": []
  },
  {
   "cell_type": "markdown",
   "id": "a1fb3b61",
   "metadata": {},
   "source": [
    "### Question 8\n",
    "\n",
    "We will now slightely improve the above kernel by replacing the natural dot product \n",
    "$$<\\boldsymbol{x},\\boldsymbol{y}>$$ \n",
    "by \n",
    "$$ \\sum_i \\min(\\boldsymbol{x}_i, \\boldsymbol{y}_i) $$\n",
    "resulting in\n",
    "\n",
    "$$f(\\boldsymbol{x},\\boldsymbol{y})= (1+\\sum_i \\min(\\boldsymbol{x}_i, \\boldsymbol{y}_i) )^n$$\n",
    "\n",
    "Is $f$ a positive semidefinite kernel ? Either prove that it is, or give a counter-example."
   ]
  },
  {
   "cell_type": "code",
   "execution_count": null,
   "id": "be2450b0",
   "metadata": {},
   "outputs": [],
   "source": []
  },
  {
   "cell_type": "markdown",
   "id": "45996a2d",
   "metadata": {},
   "source": [
    "### Question 9\n",
    "\n",
    "Irrespective of your answer to question 8, try kfda with $f$ as its kernel. Looking at the source code https://github.com/concavegit/kfda/blob/master/kfda/kfda.py you will notice (line 92) that it relies on the paiwise_kernels function from sklearn to compute the Gram matrix. \n",
    "\n",
    "According to sklearn documentation https://scikit-learn.org/stable/modules/generated/sklearn.metrics.pairwise.pairwise_kernels.html the kernel parameter can be a callable, hence you can supply a function of your own as the kernel argument, possibly using the keywords field (kwds).\n",
    "\n",
    "Report your classification results, possibly varying $n$ (be reasonable with values, high $n$ may cause floating point exceptions, in addition of being meaningless). You should likely obtain decent (~ 75% accuracy, say) but not outstanding results.  This, however, is highly dependent on the dataset and classes you chose."
   ]
  },
  {
   "cell_type": "code",
   "execution_count": null,
   "id": "a99a4fb6",
   "metadata": {},
   "outputs": [],
   "source": []
  },
  {
   "cell_type": "markdown",
   "id": "42178c26",
   "metadata": {},
   "source": [
    "### Question 10\n",
    "\n",
    "One reason why the obtained accuracy is not fantastic is that the vector model we are using is blind to bigrams. For instance, we may encounter (normalized) words \"donald\", and \"trump\" separately in a document, but this is very different from \"donald trump\".\n",
    "\n",
    "One way to fix this is to include bigrams in the vocabulary : for two consecutive words, like \"donald trump\", we would add a synthetic word \"donald_trump\" to the vocabulary. \n",
    "\n",
    "What would be the memory complexity of the solution ?"
   ]
  },
  {
   "cell_type": "code",
   "execution_count": null,
   "id": "be14dd71",
   "metadata": {},
   "outputs": [],
   "source": []
  },
  {
   "cell_type": "markdown",
   "id": "eec0fa64",
   "metadata": {},
   "source": [
    "### Question 11\n",
    "\n",
    "Add an extra \"bigram\" parameter to voc_from_csv() to do so, and compare your results to those of question 9. Bigrams can be generated very simply using a code similar to this one:"
   ]
  },
  {
   "cell_type": "code",
   "execution_count": 5,
   "id": "2fb98f57",
   "metadata": {
    "scrolled": true
   },
   "outputs": [
    {
     "data": {
      "text/plain": [
       "['I_think',\n",
       " 'think_traveling',\n",
       " 'traveling_to',\n",
       " 'to_Rio',\n",
       " 'Rio_next',\n",
       " 'next_winter',\n",
       " 'winter_would',\n",
       " 'would_be',\n",
       " 'be_great']"
      ]
     },
     "execution_count": 5,
     "metadata": {},
     "output_type": "execute_result"
    }
   ],
   "source": [
    "w=['I','think','traveling','to','Rio','next','winter','would','be','great']\n",
    "[w[i]+'_'+w[i+1] for i in range(0,len(w)-1)]"
   ]
  },
  {
   "cell_type": "code",
   "execution_count": null,
   "id": "61b12aea",
   "metadata": {},
   "outputs": [],
   "source": []
  }
 ],
 "metadata": {
  "kernelspec": {
   "display_name": "Python 3 (ipykernel)",
   "language": "python",
   "name": "python3"
  },
  "language_info": {
   "codemirror_mode": {
    "name": "ipython",
    "version": 3
   },
   "file_extension": ".py",
   "mimetype": "text/x-python",
   "name": "python",
   "nbconvert_exporter": "python",
   "pygments_lexer": "ipython3",
   "version": "3.11.0"
  }
 },
 "nbformat": 4,
 "nbformat_minor": 5
}
