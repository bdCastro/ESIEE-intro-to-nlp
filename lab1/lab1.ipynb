{
 "cells": [
  {
   "cell_type": "markdown",
   "id": "9da85fbc",
   "metadata": {},
   "source": [
    "# AIC-5102B - Lab 1 : tokenization, word embeddings\n",
    "\n",
    "\n",
    "\n",
    "# 1. Setup\n",
    "This lab uses Python 3, and two popular NLP packages :\n",
    "    * NLTK, for text preprocessing, and corporas\n",
    "    * Gensim, because of its implementation of Word2vec\n",
    "\n",
    "To install nltk"
   ]
  },
  {
   "cell_type": "code",
   "execution_count": 1,
   "id": "ae2d8e90",
   "metadata": {},
   "outputs": [
    {
     "name": "stdout",
     "output_type": "stream",
     "text": [
      "showing info https://raw.githubusercontent.com/nltk/nltk_data/gh-pages/index.xml\n"
     ]
    },
    {
     "data": {
      "text/plain": [
       "True"
      ]
     },
     "execution_count": 1,
     "metadata": {},
     "output_type": "execute_result"
    }
   ],
   "source": [
    "import nltk\n",
    "import ssl\n",
    "\n",
    "try:\n",
    "    _create_unverified_https_context = ssl._create_unverified_context\n",
    "except AttributeError:\n",
    "    pass\n",
    "else:\n",
    "    ssl._create_default_https_context = _create_unverified_https_context\n",
    "\n",
    "nltk.download()"
   ]
  },
  {
   "cell_type": "markdown",
   "id": "6055a8d1",
   "metadata": {},
   "source": [
    "This will open a window to let you choose what to download. You can download everything (this requires about 3GB of space), but you will only need the “Brown”, and “Reuters” corpora, and the “words” package.\n",
    "\n",
    "NLTK’s documentation [is here](https://www.nltk.org/api/nltk.html)\n",
    "\n",
    "# 2. Tokenization\n",
    "\n",
    "Examine the effect of the basic tokenization functions word_tokenize() on the short Yahoo! news used in class :"
   ]
  },
  {
   "cell_type": "code",
   "execution_count": 2,
   "id": "5b699f50",
   "metadata": {},
   "outputs": [
    {
     "data": {
      "text/plain": [
       "['<',\n",
       " '!',\n",
       " 'DOCTYPE',\n",
       " 'HTML',\n",
       " 'PUBLIC',\n",
       " '``',\n",
       " '-//IETF//DTD',\n",
       " 'HTML',\n",
       " '2.0//EN',\n",
       " \"''\",\n",
       " '>',\n",
       " '<',\n",
       " 'html',\n",
       " '>',\n",
       " '<',\n",
       " 'head',\n",
       " '>',\n",
       " '<',\n",
       " 'title',\n",
       " '>',\n",
       " '403',\n",
       " 'Forbidden',\n",
       " '<',\n",
       " '/title',\n",
       " '>',\n",
       " '<',\n",
       " '/head',\n",
       " '>',\n",
       " '<',\n",
       " 'body',\n",
       " '>',\n",
       " '<',\n",
       " 'h1',\n",
       " '>',\n",
       " 'Forbidden',\n",
       " '<',\n",
       " '/h1',\n",
       " '>',\n",
       " '<',\n",
       " 'p',\n",
       " '>',\n",
       " 'You',\n",
       " 'do',\n",
       " \"n't\",\n",
       " 'have',\n",
       " 'permission',\n",
       " 'to',\n",
       " 'access',\n",
       " 'this',\n",
       " 'resource.',\n",
       " '<',\n",
       " '/p',\n",
       " '>',\n",
       " '<',\n",
       " '/body',\n",
       " '>',\n",
       " '<',\n",
       " '/html',\n",
       " '>']"
      ]
     },
     "execution_count": 2,
     "metadata": {},
     "output_type": "execute_result"
    }
   ],
   "source": [
    "import requests\n",
    "res= requests.get('https://perso.esiee.fr/~hilairex/AIC-5201A/yahoo.txt')\n",
    "text= str(res.text)\n",
    "nltk.word_tokenize(text)"
   ]
  },
  {
   "cell_type": "markdown",
   "id": "11f8b045",
   "metadata": {},
   "source": [
    "Compare with wordpunct_tokenize():"
   ]
  },
  {
   "cell_type": "code",
   "execution_count": 3,
   "id": "bf36cf68",
   "metadata": {},
   "outputs": [
    {
     "data": {
      "text/plain": [
       "['<!',\n",
       " 'DOCTYPE',\n",
       " 'HTML',\n",
       " 'PUBLIC',\n",
       " '\"-//',\n",
       " 'IETF',\n",
       " '//',\n",
       " 'DTD',\n",
       " 'HTML',\n",
       " '2',\n",
       " '.',\n",
       " '0',\n",
       " '//',\n",
       " 'EN',\n",
       " '\">',\n",
       " '<',\n",
       " 'html',\n",
       " '><',\n",
       " 'head',\n",
       " '>',\n",
       " '<',\n",
       " 'title',\n",
       " '>',\n",
       " '403',\n",
       " 'Forbidden',\n",
       " '</',\n",
       " 'title',\n",
       " '>',\n",
       " '</',\n",
       " 'head',\n",
       " '><',\n",
       " 'body',\n",
       " '>',\n",
       " '<',\n",
       " 'h1',\n",
       " '>',\n",
       " 'Forbidden',\n",
       " '</',\n",
       " 'h1',\n",
       " '>',\n",
       " '<',\n",
       " 'p',\n",
       " '>',\n",
       " 'You',\n",
       " 'don',\n",
       " \"'\",\n",
       " 't',\n",
       " 'have',\n",
       " 'permission',\n",
       " 'to',\n",
       " 'access',\n",
       " 'this',\n",
       " 'resource',\n",
       " '.</',\n",
       " 'p',\n",
       " '>',\n",
       " '</',\n",
       " 'body',\n",
       " '></',\n",
       " 'html',\n",
       " '>']"
      ]
     },
     "execution_count": 3,
     "metadata": {},
     "output_type": "execute_result"
    }
   ],
   "source": [
    "nltk.wordpunct_tokenize(text)"
   ]
  },
  {
   "cell_type": "markdown",
   "id": "fa062244",
   "metadata": {},
   "source": [
    "<b>Exercise: </b>\n",
    "* Tokenize using regexp_tokenize()\n",
    "* Extend the regular expression so that numbers, amounts of money, ticker symbols, and emails be not cut.\n",
    "\n",
    "Notice: according to [NLTK's documentation](https://www.nltk.org/api/nltk.tokenize.html), \"The pattern used to build this tokenizer [...] must not contain capturing parentheses; Use non-capturing parentheses, e.g. (?:…), instead\"\n",
    "\n",
    "<span style=\"color:red\">Solution: see block below.     \n",
    "Explanations:\n",
    "* A number can be comma separated (f_number) or ordinary (o_number)\n",
    "* An ordinary number is just a set of digits, eventually prefixed by '-', and eventually followed by a dot + some decimals\n",
    "* A comma separated number uses commas to separate digits in blocks :\n",
    "    * first block may have between 1 and 3 digits, then a comma\n",
    "    * next blocks, if they exist, consist of 3 digits + a comma\n",
    "    * the sequel might include a dot + decimals\n",
    "* Ticker symbols may include any string of capital letters on either side of a semicolon ':'. An '=' followed by the same string may eventually be appended once.\n",
    "* Email consists of some characters + '@' + some characters (very relaxed version !)\n",
    "* Then we find everything else : newline '\\n', parenthesis '(' ')', words '\\w+', etc.\n",
    "</span>\n"
   ]
  },
  {
   "cell_type": "code",
   "execution_count": 4,
   "id": "d7f29795",
   "metadata": {},
   "outputs": [
    {
     "data": {
      "text/plain": [
       "[('2', '', '.0'), ('403', '', ''), ('1', '', ''), ('1', '', '')]"
      ]
     },
     "execution_count": 4,
     "metadata": {},
     "output_type": "execute_result"
    }
   ],
   "source": [
    "number='-?([0-9]+|[0-9]{1,3}(,[0-9]{3})*)(\\.[0-9]+)?'\n",
    "nltk.regexp_tokenize(text, pattern=number)"
   ]
  },
  {
   "cell_type": "markdown",
   "id": "5ef80132",
   "metadata": {},
   "source": [
    "# 3. Latent semantinc indexing\n",
    "\n",
    "Take a look at NLTK’s documentation related to the corpus package – https://www.\n",
    "nltk.org/api/nltk.corpus.html\n",
    "\n",
    "Then, from nltk.corpus import brown. The corpus consists of a few dozens of short stories, each of them being labelled as the name of the orignal file it was extracted from the corpus. You can list these files thanks to brown.fileids(). The raw(), words(), sents(), and paras() functions either work over the whole corpus if you call them without any argument, or over a specified file."
   ]
  },
  {
   "cell_type": "code",
   "execution_count": 5,
   "id": "700d2828",
   "metadata": {
    "scrolled": true
   },
   "outputs": [
    {
     "data": {
      "text/plain": [
       "['The', 'Fulton', 'County', 'Grand', 'Jury', 'said', ...]"
      ]
     },
     "execution_count": 5,
     "metadata": {},
     "output_type": "execute_result"
    }
   ],
   "source": [
    "from nltk.corpus import brown\n",
    "\n",
    "# uncomment where needed\n",
    "\n",
    "#brown.fileids()\n",
    "brown.words()\n",
    "#brown.sents()\n",
    "#brown.paras()\n"
   ]
  },
  {
   "cell_type": "markdown",
   "id": "d93dee82",
   "metadata": {},
   "source": [
    "## 3.1 Document-term matrix\n",
    "\n",
    "The following function dtmat(corpus) computes and returns the DT matrix of the specified corpus. Extend it so that the matrix be TF-IDF normalized."
   ]
  },
  {
   "cell_type": "code",
   "execution_count": 6,
   "id": "b6fef8de",
   "metadata": {},
   "outputs": [],
   "source": [
    "import numpy as np\n",
    "\n",
    "def dtmat(corpus):\n",
    "    vocab=np.array(list(sorted(set(corpus.words()))))\n",
    "    rows=len(vocab)  # number of rows\n",
    "    cols=len(corpus.fileids())\n",
    "    mat=np.zeros((rows,cols))\n",
    "    d=0\n",
    "    for doc in corpus.fileids():\n",
    "        words=np.array(sorted(list(corpus.words(doc))))\n",
    "        X=np.searchsorted(vocab,words,side='left')\n",
    "        for x in X:\n",
    "            mat[x][d]+=1\n",
    "        d+=1\n",
    "    return mat"
   ]
  },
  {
   "cell_type": "code",
   "execution_count": 7,
   "id": "2ca63f65",
   "metadata": {},
   "outputs": [],
   "source": [
    "M=dtmat(brown)"
   ]
  },
  {
   "cell_type": "code",
   "execution_count": 8,
   "id": "484ebb71",
   "metadata": {},
   "outputs": [],
   "source": [
    "#\n",
    "# Your answer here\n",
    "#\n",
    "\n",
    "def idf(mat):\n",
    "    return np.log((1+mat.shape[1])/(1+np.sum(mat>0,axis=1)))\n",
    "\n",
    "def tfidf(mat):\n",
    "    idf_mat = idf(mat)\n",
    "    for i in range(mat.shape[0]):\n",
    "        for j in range(mat.shape[1]):\n",
    "            mat[i][j] = np.log(1+mat[i][j]) * idf_mat[i]\n",
    "\n",
    "    return mat\n",
    "\n",
    "def tfidf_dtmat(corpus):\n",
    "    mat=dtmat(corpus)\n",
    "    mat=tfidf(mat)\n",
    "    return mat"
   ]
  },
  {
   "cell_type": "code",
   "execution_count": 9,
   "id": "36e8e19b",
   "metadata": {},
   "outputs": [
    {
     "data": {
      "text/plain": [
       "array([[0.        , 0.        , 0.        , ..., 0.        , 1.63858334,\n",
       "        0.        ],\n",
       "       [0.        , 0.        , 0.        , ..., 0.        , 0.        ,\n",
       "        0.        ],\n",
       "       [0.        , 0.        , 0.        , ..., 0.        , 0.        ,\n",
       "        0.        ],\n",
       "       ...,\n",
       "       [0.        , 0.        , 0.        , ..., 0.        , 0.        ,\n",
       "        0.        ],\n",
       "       [0.        , 0.        , 0.        , ..., 0.        , 0.        ,\n",
       "        0.        ],\n",
       "       [0.        , 0.        , 0.        , ..., 0.        , 0.        ,\n",
       "        0.        ]])"
      ]
     },
     "execution_count": 9,
     "metadata": {},
     "output_type": "execute_result"
    }
   ],
   "source": [
    "M=tfidf_dtmat(brown)\n",
    "M"
   ]
  },
  {
   "cell_type": "markdown",
   "id": "bfbdd309",
   "metadata": {},
   "source": [
    "Questions :\n",
    "1. Run your function on the Brown corpus. \n",
    "2. What is the representation of a given word ? Document ?\n",
    "3. Assuming the proximity of words or documents is directly measured by their dot products : What are the closest documents ? Write down the indexes of these documents + the value of their dot product, for future comparison.\n",
    "4. Can you compute the closest *words* with the same technique ?"
   ]
  },
  {
   "cell_type": "code",
   "execution_count": 10,
   "id": "94322080",
   "metadata": {},
   "outputs": [
    {
     "name": "stdout",
     "output_type": "stream",
     "text": [
      "voc. size= 56057\n",
      "documents 273 and 397\n",
      "dot product = 1377.8975940433595\n"
     ]
    }
   ],
   "source": [
    "#\n",
    "# Your answer here\n",
    "#"
   ]
  },
  {
   "cell_type": "markdown",
   "id": "60d26754",
   "metadata": {},
   "source": [
    "## 3.2 Singular value decomposition\n",
    "Let’s call M the TF-IDF normlized version of DT-matrix you obtained at section 3.1. on the Brown corpus.\n",
    "1. Plot the cumulative sum of the singular values of M as a graph. The stats.cumfreq() function might prove useful.\n",
    "2. Find a value of n from above which it is reasonable to vanish the remaining singular values. Call d that value."
   ]
  },
  {
   "cell_type": "code",
   "execution_count": 10,
   "id": "e528f965",
   "metadata": {
    "scrolled": true
   },
   "outputs": [
    {
     "data": {
      "image/png": "[encoded data removed]",
      "text/plain": [
       "<Figure size 1000x400 with 2 Axes>"
      ]
     },
     "metadata": {},
     "output_type": "display_data"
    }
   ],
   "source": [
    "from scipy import stats\n",
    "import matplotlib.pyplot as plt\n",
    "\n",
    "res = stats.cumfreq(M)\n",
    "x = res.lowerlimit + np.linspace(0, res.binsize*res.cumcount.size,res.cumcount.size)\n",
    "\n",
    "fig = plt.figure(figsize=(10, 4))\n",
    "ax1 = fig.add_subplot(1, 2, 1)\n",
    "ax2 = fig.add_subplot(1, 2, 2)\n",
    "ax1.hist(M, bins=25)\n",
    "ax1.set_title('Histogram')\n",
    "ax2.bar(x, res.cumcount, width=res.binsize)\n",
    "ax2.set_title('Cumulative histogram')\n",
    "ax2.set_xlim([x.min(), x.max()])\n",
    "plt.show()"
   ]
  },
  {
   "cell_type": "markdown",
   "id": "ac513589",
   "metadata": {},
   "source": [
    "The (U,S,V) = np.linalg.svd(M) call has been made for you. The result is stored at https://mvproxy.esiee.fr/tmp/NLP as separate files, all saved by np.save() :\n",
    "* U.npy is U. It is a 56057 x 56057 double matrix, and is **huge** (25 GB in memory). Don't even try to load it on your machine\n",
    "* U500c.npy and U500r.npy are the first 500 columns and rows of U. They use about 250 MB of RAM, but are loadable.\n",
    "* V.npy is V. It is a 500 x 500 double matrix, and does not cause any issue.\n",
    "* S.npy are the singular values of M, stored as a simple vector."
   ]
  },
  {
   "cell_type": "markdown",
   "id": "6fb3ba1b",
   "metadata": {},
   "source": [
    "4. What is the expression of a change-of-basis matrix P that maps original data from M to the space defined by U.Sigma ? What is the dimension of that space ?\n",
    "5. Now, vanish the weakest singular values after d in Sigma, and compute U.Sigma using only U500c and Sigma. What is the dimension of U.Sigma ?\n",
    "6. Compare the dot products of words 41150 and 22016 directly from M, and from the embedded space U.Sigma. Did SVD significantly change the result ?\n",
    "\n",
    "\n",
    "NOTE : dimension reduction is not very spectacular in this example, because we only have 500 documents, which is far fewer than the vocabulary size 56k. A real corpus would involve hundreds of thousands of documents, but would be processed exactly the same way. "
   ]
  },
  {
   "cell_type": "code",
   "execution_count": 13,
   "id": "81813ff2",
   "metadata": {},
   "outputs": [
    {
     "ename": "NameError",
     "evalue": "name 'S' is not defined",
     "output_type": "error",
     "traceback": [
      "\u001b[0;31m---------------------------------------------------------------------------\u001b[0m",
      "\u001b[0;31mNameError\u001b[0m                                 Traceback (most recent call last)",
      "Input \u001b[0;32mIn [13]\u001b[0m, in \u001b[0;36m<cell line: 6>\u001b[0;34m()\u001b[0m\n\u001b[1;32m      1\u001b[0m \u001b[38;5;66;03m# Answers \u001b[39;00m\n\u001b[1;32m      2\u001b[0m \u001b[38;5;66;03m# 4. P=U Sigma M+ = U Sigma (M^t M)^(-1) M^t, where M+ is the Penrose-Moore pseudo-inverse\u001b[39;00m\n\u001b[1;32m      3\u001b[0m \u001b[38;5;66;03m# 5.\u001b[39;00m\n\u001b[1;32m      4\u001b[0m \u001b[38;5;66;03m# with no loss :\u001b[39;00m\n\u001b[1;32m      5\u001b[0m Sigma\u001b[38;5;241m=\u001b[39mnp\u001b[38;5;241m.\u001b[39mzeros((\u001b[38;5;241m500\u001b[39m,\u001b[38;5;241m500\u001b[39m))\n\u001b[0;32m----> 6\u001b[0m Sigma[\u001b[38;5;241m0\u001b[39m:\u001b[38;5;241m500\u001b[39m,\u001b[38;5;241m0\u001b[39m:\u001b[38;5;241m500\u001b[39m]\u001b[38;5;241m=\u001b[39mnp\u001b[38;5;241m.\u001b[39mdiag(S)\n\u001b[1;32m      7\u001b[0m X1\u001b[38;5;241m=\u001b[39mnp\u001b[38;5;241m.\u001b[39mdot(U500c, Sigma)\n\u001b[1;32m      9\u001b[0m \u001b[38;5;66;03m# with loss :\u001b[39;00m\n",
      "\u001b[0;31mNameError\u001b[0m: name 'S' is not defined"
     ]
    }
   ],
   "source": [
    "#\n",
    "# Your answer here\n",
    "#"
   ]
  },
  {
   "cell_type": "markdown",
   "id": "6c487970",
   "metadata": {},
   "source": [
    "# 4. Word2Vec\n",
    "\n",
    "NLTK does not have an implemention of Word2Vec, but gensim does. To install it :\n",
    "```\n",
    "pip3 install gensim\n",
    "```\n",
    "Once done, you will simply have to import gensim from Python3. Word2Vec is implemented as a module of gensim.models.\n",
    "\n",
    "## 4.1 Training from the Brown corpus\n",
    "\n",
    "We will first try to train a Word2Vec model directly from the Brown corpus. In its simplest form, this results in the following lines (training may take a few minutes on ESIEE's machines ):"
   ]
  },
  {
   "cell_type": "code",
   "execution_count": 11,
   "id": "c3f0cbe2",
   "metadata": {},
   "outputs": [
    {
     "data": {
      "text/plain": [
       "array([ 2.49280736e-01,  1.56148517e+00,  5.15668035e-01,  5.28853655e-01,\n",
       "       -6.88581467e-01, -9.28207278e-01,  1.59327412e+00, -1.01743355e-01,\n",
       "       -5.39115787e-01, -4.80008781e-01,  6.44977987e-01,  2.36452341e-01,\n",
       "        9.55392838e-01, -4.09634531e-01, -4.57119286e-01,  1.01632488e+00,\n",
       "       -1.34417093e+00, -8.75080049e-01, -4.83107239e-01, -1.31143117e+00,\n",
       "        7.86753356e-01,  9.87085223e-01,  3.74620706e-01, -5.56198955e-01,\n",
       "       -7.24783421e-01,  3.25783730e-01,  5.45777738e-01, -1.11780274e+00,\n",
       "       -1.13554013e+00,  8.41439366e-01, -6.06052041e-01, -3.88270281e-02,\n",
       "        4.16889712e-02,  8.06536496e-01,  2.77094275e-01, -9.32952404e-01,\n",
       "        2.00924769e-01, -4.10294831e-01, -1.20562494e+00, -1.97974801e-01,\n",
       "       -1.12243950e+00,  3.50566059e-01, -7.00372383e-02, -4.39164788e-01,\n",
       "        1.02416515e+00,  5.57812691e-01,  3.99240553e-01,  9.44167197e-01,\n",
       "        2.56890744e-01, -5.49361259e-02, -1.07593030e-01,  5.04956961e-01,\n",
       "        4.67466265e-01, -6.22292757e-01,  7.18250453e-01, -6.67517781e-01,\n",
       "        4.98445839e-01, -7.22813189e-01, -1.49960029e+00,  5.10126166e-02,\n",
       "        1.23059809e+00,  7.68061399e-01, -7.44639575e-01, -1.06662846e+00,\n",
       "       -7.26121008e-01,  4.43780273e-01, -1.24345529e+00,  8.64413261e-01,\n",
       "       -7.55217016e-01,  6.05465174e-01,  7.58201182e-02, -1.10425219e-01,\n",
       "       -5.68915188e-01, -8.15569103e-01,  2.18250483e-01,  1.23826373e+00,\n",
       "        8.38501930e-01, -4.36439425e-01,  6.78333491e-02, -4.33346391e-01,\n",
       "       -3.38501446e-02,  8.31919074e-01,  5.54570973e-01,  5.01925945e-01,\n",
       "       -1.08398557e+00, -1.59445241e-01,  1.15780628e+00, -9.71300006e-02,\n",
       "        4.58205566e-02,  6.51529491e-01,  8.06934416e-01,  1.04142189e-01,\n",
       "        2.80912354e-04,  4.21886384e-01,  1.80432394e-01,  4.55022007e-02,\n",
       "       -1.43193591e+00, -5.21824718e-01,  1.08296740e+00,  8.57241213e-01],\n",
       "      dtype=float32)"
      ]
     },
     "execution_count": 11,
     "metadata": {},
     "output_type": "execute_result"
    }
   ],
   "source": [
    "import nltk\n",
    "from gensim.models import Word2Vec\n",
    "from nltk.corpus import brown\n",
    "model=Word2Vec(brown.sents())\n",
    "#model.build_vocab(brown.sents())\n",
    "#model.train(brown.sentences(), total_examples=model.corpus_count, epochs=model.iter)\n",
    "\n",
    "model.wv[0]\n"
   ]
  },
  {
   "cell_type": "markdown",
   "id": "99ddd33f",
   "metadata": {},
   "source": [
    "Word vectors are then accessible through model.vw \n",
    "The wv.similar_by_key() function finds the most similar vectors to that identified by its key, according to the cosine similarity of their embedded representations. "
   ]
  },
  {
   "cell_type": "code",
   "execution_count": 12,
   "id": "bf41b28c",
   "metadata": {},
   "outputs": [
    {
     "name": "stdout",
     "output_type": "stream",
     "text": [
      "[('woman', 0.869438648223877), ('girl', 0.866407573223114), ('boy', 0.8125072717666626), ('young', 0.7650755047798157), ('person', 0.7473399639129639), ('child', 0.7470142841339111), ('himself', 0.7464312314987183), ('paradise', 0.7298892736434937), ('martyr', 0.7230910062789917), ('old', 0.7127005457878113)]\n",
      "[('Soviet', 0.920231282711029), ('leadership', 0.9199120402336121), ('expansion', 0.9155582189559937), ('civilization', 0.9148184061050415), ('co-operation', 0.9131867289543152), ('solar', 0.9124418497085571), ('inherent', 0.907850444316864), ('operation', 0.9068968296051025), ('quantity', 0.9047881960868835), ('progress', 0.9037180542945862)]\n"
     ]
    }
   ],
   "source": [
    "print(model.wv.most_similar(\"man\"))\n",
    "print(model.wv.most_similar(\"administration\"))"
   ]
  },
  {
   "cell_type": "markdown",
   "id": "3b78aad5",
   "metadata": {},
   "source": [
    "The following piece of code represents a sample of N words as a dendrogram, based on their \"cosine distance\", which is just 1 minus their cosine similarity:"
   ]
  },
  {
   "cell_type": "code",
   "execution_count": 13,
   "id": "9312f304",
   "metadata": {
    "scrolled": false
   },
   "outputs": [
    {
     "data": {
      "image/png": "[encoded data removed]",
      "text/plain": [
       "<Figure size 640x480 with 1 Axes>"
      ]
     },
     "metadata": {},
     "output_type": "display_data"
    }
   ],
   "source": [
    "import numpy as np\n",
    "from scipy.cluster import hierarchy\n",
    "import matplotlib.pyplot as plt\n",
    "\n",
    "# model=Word2Vec(brown.sents());\n",
    "\n",
    "N=30\n",
    "pick= np.random.choice(range(0,len(model.wv.index_to_key)), N)\n",
    "\n",
    "m= np.zeros((N*(N-1))//2)\n",
    "k=0\n",
    "for i in range(0,N):\n",
    "    for j in range(i+1,N):\n",
    "        m[k]= 1-model.wv.similarity(i,j)\n",
    "        k=k+1\n",
    "        \n",
    "\n",
    "sampwords= [model.wv.index_to_key[n] for n in pick]\n",
    "\n",
    "Z = hierarchy.linkage(m, 'single')\n",
    "dn = hierarchy.dendrogram(Z=Z,orientation='right',p=N,truncate_mode='level',labels=sampwords)\n",
    "plt.show()\n",
    "\n"
   ]
  },
  {
   "cell_type": "markdown",
   "id": "94dde821",
   "metadata": {},
   "source": [
    "Make a function dendro(model, L) of it to represent the similarities between the list of words L. Use it to represent : 'woman','girl','boy','young','Missouri','Boston','Manchester','Hills','moment','place','day','end','pork','sandals',soloist','meat'\n",
    "Which words cluster well together ?\n",
    "Try to think of a subset of 3 or 4 classes of words, 4 words / class, and represent them. You should quickly find at least that some words do not cluster well, especially in case of polysemy. Like 'fish' in ['kitchen','food', 'recipe','man','boy','girl','electronics','computer', 'fish','boat','sea'] (can belon to food as well as sea)"
   ]
  },
  {
   "cell_type": "code",
   "execution_count": 14,
   "id": "5b9c19cc",
   "metadata": {},
   "outputs": [
    {
     "data": {
      "image/png": "[encoded data removed]",
      "text/plain": [
       "<Figure size 640x480 with 1 Axes>"
      ]
     },
     "metadata": {},
     "output_type": "display_data"
    }
   ],
   "source": [
    "def dendro(model, L=None):\n",
    "    if type(model) is Word2Vec:\n",
    "        model = model.wv\n",
    "    \n",
    "    if L is None:\n",
    "        L = np.random.choice(range(0,len(model.index_to_key)), 16)\n",
    "        L = [model.index_to_key[n] for n in L]\n",
    "        \n",
    "    N = len(L)\n",
    "\n",
    "    M = np.zeros((N*(N-1))//2)\n",
    "    k = 0\n",
    "\n",
    "    for i in range(0, N):\n",
    "        for j in range(i + 1, N):\n",
    "            M[k] = 1 - model.similarity(L[i], L[j])\n",
    "            k = k + 1\n",
    "\n",
    "    # M = model[L].dot(model[L].T)\n",
    "\n",
    "    Z = hierarchy.linkage(M, 'single')\n",
    "    _ = hierarchy.dendrogram(Z=Z,orientation='right',p=N,truncate_mode='level',labels=L)\n",
    "    plt.show()\n",
    "\n",
    "dendro(model, ['woman','girl','boy','young','Missouri','Boston','Manchester','Hills','moment','place','day','end','pork','sandals','soloist','meat'])\n",
    "# dendro(model)"
   ]
  },
  {
   "cell_type": "markdown",
   "id": "639b7969",
   "metadata": {},
   "source": [
    "## 4.2 Pretrained corpus\n",
    "In this part, we will explore word vectors on a much larger, pretrained database : Google news 3M words. As the name suggests, the database has been trained over 3 million words picked up from google news articles. \n",
    "You have two ways to load it : either by downloading from source, or by using a local copy. I *strongly* recommend you to use the latter, downloading from source not only is slow, but also may lead your notebook to crash.\n",
    "\n",
    "### 4.2.1 Downloading from local copy\n",
    "Visit https://mvproxy.esiee.fr/NLP and download the word2vec-google-news-300.kv.vectors.npy and word2vec-google-news-300.kv files to your local hard drive (be careful NOT to cross your homedir/ directory at ESIEE). Then do the following:"
   ]
  },
  {
   "cell_type": "code",
   "execution_count": 15,
   "id": "c2b0908d",
   "metadata": {},
   "outputs": [],
   "source": [
    "from gensim.models import KeyedVectors\n",
    "gnews=KeyedVectors.load('word2vec-google-news-300.kv')"
   ]
  },
  {
   "cell_type": "markdown",
   "id": "144af010",
   "metadata": {},
   "source": [
    "### 4.2.2 Downloading from source\n",
    "If you insist downloading directly from source, here is how to do it:"
   ]
  },
  {
   "cell_type": "code",
   "execution_count": null,
   "id": "5a07bec9",
   "metadata": {},
   "outputs": [],
   "source": [
    "# import gensim.downloader\n",
    "# gnews2=gensim.downloader.load('word2vec-google-news-300')"
   ]
  },
  {
   "cell_type": "markdown",
   "id": "ada20cbd",
   "metadata": {},
   "source": [
    "### 4.2.3 Exploring words\n",
    "\n",
    "Examine the index_to_key and vectors members of gnews. Are the 3 million \"words\" really relevant ? What is the dimension of the word vectors ?"
   ]
  },
  {
   "cell_type": "code",
   "execution_count": 16,
   "id": "43701216",
   "metadata": {},
   "outputs": [
    {
     "name": "stdout",
     "output_type": "stream",
     "text": [
      "number of \"words\" in the set: 3000000\n",
      "number of dimensions: 300\n"
     ]
    }
   ],
   "source": [
    "print(f'number of \"words\" in the set: {len(gnews.index_to_key)}')\n",
    "print(f'number of dimensions: {gnews.vector_size}')\n",
    "\n",
    "# L = np.random.choice(1,len(gnews.index_to_key),10)\n",
    "# pick = [gnews.index_to_key[n] for n in L]\n",
    "# print(f'vocabulary: {pick}')"
   ]
  },
  {
   "cell_type": "markdown",
   "id": "a5fd4c00",
   "metadata": {},
   "source": [
    "Adapt your dendro() function so that it now operate over gensim's models. Try again your list ['kitchen','food', 'recipe','man','boy','girl','electronics','computer', 'fish','boat','sea'] on gnews. You should obtain something better."
   ]
  },
  {
   "cell_type": "code",
   "execution_count": 17,
   "id": "c2080f04",
   "metadata": {},
   "outputs": [
    {
     "data": {
      "image/png": "[encoded data removed]",
      "text/plain": [
       "<Figure size 640x480 with 1 Axes>"
      ]
     },
     "metadata": {},
     "output_type": "display_data"
    }
   ],
   "source": [
    "dendro(gnews, ['kitchen','food', 'recipe','man','boy','girl','electronics','computer', 'fish','boat','sea'])"
   ]
  },
  {
   "cell_type": "markdown",
   "id": "8cbc01c0",
   "metadata": {},
   "source": [
    "The most_similar(positive=..., negative=...) function finds the vector closest to positive sample(s), and furthest to negative sample(s). \n",
    "Use it to answer the following questions, either by providing several positive or negative samples, or by explicitely computing the expected result:\n",
    "- king is to man as .?. is to women\n",
    "- women is to man as .?. is to king\n",
    "- queen is to king as .?. is to man"
   ]
  },
  {
   "cell_type": "code",
   "execution_count": 28,
   "id": "a6389836",
   "metadata": {},
   "outputs": [
    {
     "data": {
      "text/plain": [
       "[('woman', 0.7609436511993408),\n",
       " ('girl', 0.6139993667602539),\n",
       " ('teenage_girl', 0.6040961146354675),\n",
       " ('teenager', 0.5825758576393127),\n",
       " ('lady', 0.5752554535865784),\n",
       " ('boy', 0.5077577233314514),\n",
       " ('policewoman', 0.5066847801208496),\n",
       " ('schoolgirl', 0.5052095651626587),\n",
       " ('blonde', 0.48696184158325195),\n",
       " ('person', 0.4863754212856293)]"
      ]
     },
     "execution_count": 28,
     "metadata": {},
     "output_type": "execute_result"
    }
   ],
   "source": [
    "gnews.most_similar(positive=['queen', 'man'], negative=['king'], topn=10)"
   ]
  },
  {
   "cell_type": "markdown",
   "id": "68c64cab",
   "metadata": {},
   "source": [
    "### Anser\n",
    "\n",
    "- king is to man as *queen* is to women\n",
    "- women is to man as *queen* is to king\n",
    "- queen is to king as *woman* is to man"
   ]
  },
  {
   "cell_type": "markdown",
   "id": "9d7abc60",
   "metadata": {},
   "source": [
    "### 4.2.4 Polysemy\n",
    "Polysemous words are words which have more than a single meaning. For instance, the 'run' word can have plenty of meanings: to run a program, to run a race, to run out of stock, etc. So 'run' is related ro 'race','stock','program'. The 'wing' name can refer to an aircraft's wing, or a chicken's wing, or a building's wing, or a political tendency (left / right wing). So 'wing' related to 'aircraft', 'chicken', 'building', 'politics'.\n",
    "Try to think of putative polysemic words, and check whether most_similar() returns at least one context you expected within the first 15 first results. If a word does not produce what you expected, does it mean its vector representation is not correct ?"
   ]
  },
  {
   "cell_type": "code",
   "execution_count": 50,
   "id": "109846a8",
   "metadata": {},
   "outputs": [
    {
     "data": {
      "text/plain": [
       "[('rightwing', 0.34769681096076965),\n",
       " ('symbol_DCX', 0.33665260672569275),\n",
       " ('leftwing', 0.32970139384269714),\n",
       " ('wingers', 0.31538379192352295),\n",
       " ('columnist_Abdi_Ipekci', 0.3054783046245575),\n",
       " ('Wafd_Tagammu', 0.29528918862342834),\n",
       " ('Daniela_Santanche', 0.29259607195854187),\n",
       " ('Rightwing', 0.2898543179035187),\n",
       " ('flank', 0.2812860310077667),\n",
       " ('Waseem_Shamzad', 0.2802342474460602),\n",
       " ('Manager_MyView_SilkWorm', 0.275849312543869),\n",
       " ('Markos_Zuniga', 0.2653258442878723),\n",
       " ('white_supremacists_neo_Nazis', 0.26397305727005005),\n",
       " ('activist_Noam_Federman', 0.263570636510849),\n",
       " ('Paul_Burstow_Liberal', 0.2618127167224884)]"
      ]
     },
     "execution_count": 50,
     "metadata": {},
     "output_type": "execute_result"
    }
   ],
   "source": [
    "gnews.most_similar(positive=['wing'], negative=['game', 'instrument'], topn=15)"
   ]
  },
  {
   "cell_type": "markdown",
   "id": "d7dd0fdf",
   "metadata": {},
   "source": [
    "## Answer\n",
    "\n",
    "Yes, at least one related topic appers in the first 15 results. It's possible to reach others by subtracting the vector of words that already appeared."
   ]
  },
  {
   "cell_type": "markdown",
   "id": "361f72b8",
   "metadata": {},
   "source": [
    "### 4.2.5 Synonyms and antonyms\n",
    "Compute the dot products between 'good', and 'excellent'; 'good' and 'bad'; 'joyful' and 'cheerful'; 'joyful' and 'sad'. Try with other synonyms of your choice.\n",
    "Is the sign of the dot product representative of synonymy ? How do you explain this ?"
   ]
  },
  {
   "cell_type": "code",
   "execution_count": 62,
   "id": "38bba253",
   "metadata": {},
   "outputs": [
    {
     "data": {
      "text/plain": [
       "4.061917"
      ]
     },
     "execution_count": 62,
     "metadata": {},
     "output_type": "execute_result"
    }
   ],
   "source": [
    "gnews.get_vector('good').dot(gnews.get_vector('bad'))"
   ]
  },
  {
   "cell_type": "markdown",
   "id": "1de9d326",
   "metadata": {},
   "source": [
    "## Answer\n",
    "\n",
    "Even though the sign of the dot product is not representative of synonymy, the magnitude of the dot product is. This is because the vectors are normalized."
   ]
  },
  {
   "cell_type": "markdown",
   "id": "ad7338ba",
   "metadata": {},
   "source": [
    "### 4.2.6 Bias in word embeddings\n",
    "Compare the result of :\n",
    "- gnews.most_similar(positive=['girl','toy'], negative=['boy']) and gnews.most_similar(positive=['boy','toy'], negative=['girl'])\n",
    "- gnews.most_similar(positive=['girl','hobbies'], negative=['boy']) and gnews.most_similar(positive=['boy','hobbies'], negative=['girl'])\n",
    "\n",
    "Although toys or hobbies are supposed be genderless, can you say this is true from this example ? "
   ]
  },
  {
   "cell_type": "code",
   "execution_count": 70,
   "id": "b77e8f83",
   "metadata": {},
   "outputs": [
    {
     "data": {
      "text/plain": [
       "[('hobby', 0.6448714137077332),\n",
       " ('Hobbies', 0.6248034238815308),\n",
       " ('pastimes', 0.5979369282722473),\n",
       " ('favorite_pastimes', 0.5710381865501404),\n",
       " ('favorite_pastime', 0.5156973004341125),\n",
       " ('Favorite_pastimes', 0.5147912502288818),\n",
       " ('avocations', 0.512222945690155),\n",
       " ('gardening_woodworking', 0.5056727528572083),\n",
       " ('woodworking_gardening', 0.4999001622200012),\n",
       " ('skateboarding_snowboarding', 0.4936925172805786)]"
      ]
     },
     "execution_count": 70,
     "metadata": {},
     "output_type": "execute_result"
    }
   ],
   "source": [
    "gnews.most_similar(positive=['boy','hobbies'], negative=['girl'])"
   ]
  },
  {
   "cell_type": "markdown",
   "id": "5cd4c400",
   "metadata": {},
   "source": [
    "## Answer\n",
    "\n",
    "Even though they're supposed to be genderless, there is by default a bias in the word embeddings. This is because the training data is biased."
   ]
  },
  {
   "cell_type": "markdown",
   "id": "ed2a6e6a",
   "metadata": {},
   "source": [
    "# 4.3. Autocompletion\n",
    "\n",
    "If you have extra time, use it to write the following short application.\n",
    "\n",
    "If you start typing \"_President Barack_\" on any search engine, it is almost certain you will automatically get \"_Obama_\" as a suggested completion.\n",
    "\n",
    "Write an application that demonstrates this, by training again from the Brown corpus, but probably using different parameters than defaults. Which of CBOW and skipgram model should you choose for this task (this is controlled by the sg, and possibly cbow_mean paramaters in the Word2Vec() constructor)?  Why ?\n",
    "\n",
    "Write your code below, and comment your results."
   ]
  },
  {
   "cell_type": "code",
   "execution_count": 97,
   "id": "0135dea7",
   "metadata": {},
   "outputs": [
    {
     "name": "stdout",
     "output_type": "stream",
     "text": [
      "President Barack Obama\n"
     ]
    }
   ],
   "source": [
    "s = 'President Barack'\n",
    "\n",
    "r = gnews.most_similar(positive=s.split(), topn=10)\n",
    "s = s +  ' ' + r[0][0]\n",
    "\n",
    "print(s)"
   ]
  }
 ],
 "metadata": {
  "kernelspec": {
   "display_name": "Python 3 (ipykernel)",
   "language": "python",
   "name": "python3"
  },
  "language_info": {
   "codemirror_mode": {
    "name": "ipython",
    "version": 3
   },
   "file_extension": ".py",
   "mimetype": "text/x-python",
   "name": "python",
   "nbconvert_exporter": "python",
   "pygments_lexer": "ipython3",
   "version": "3.11.0"
  }
 },
 "nbformat": 4,
 "nbformat_minor": 5
}
